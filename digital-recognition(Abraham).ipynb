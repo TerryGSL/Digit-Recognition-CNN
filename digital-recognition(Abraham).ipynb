{
 "cells": [
  {
   "cell_type": "code",
   "execution_count": 1,
   "id": "6ed48c06",
   "metadata": {
    "execution": {
     "iopub.execute_input": "2021-08-11T09:54:10.092893Z",
     "iopub.status.busy": "2021-08-11T09:54:10.092344Z",
     "iopub.status.idle": "2021-08-11T09:54:14.555526Z",
     "shell.execute_reply": "2021-08-11T09:54:14.554551Z",
     "shell.execute_reply.started": "2021-08-11T09:50:45.734171Z"
    },
    "papermill": {
     "duration": 4.49673,
     "end_time": "2021-08-11T09:54:14.555694",
     "exception": false,
     "start_time": "2021-08-11T09:54:10.058964",
     "status": "completed"
    },
    "tags": []
   },
   "outputs": [],
   "source": [
    "import numpy as np\n",
    "import tensorflow as tf\n",
    "\n",
    "from tensorflow import keras\n",
    "from tensorflow.keras import regularizers, layers\n",
    "from keras.models import Sequential\n",
    "from keras.layers import Dense, Dropout, Convolution2D, MaxPooling2D, Flatten\n",
    "from keras.optimizers import Adam\n",
    "from keras.preprocessing.image import ImageDataGenerator"
   ]
  },
  {
   "cell_type": "markdown",
   "id": "b4e5762e",
   "metadata": {
    "papermill": {
     "duration": 0.019289,
     "end_time": "2021-08-11T09:54:14.595161",
     "exception": false,
     "start_time": "2021-08-11T09:54:14.575872",
     "status": "completed"
    },
    "tags": []
   },
   "source": [
    "# LOAD DATA"
   ]
  },
  {
   "cell_type": "code",
   "execution_count": 2,
   "id": "a9f5e0a2",
   "metadata": {
    "execution": {
     "iopub.execute_input": "2021-08-11T09:54:14.638130Z",
     "iopub.status.busy": "2021-08-11T09:54:14.637607Z",
     "iopub.status.idle": "2021-08-11T09:54:15.314893Z",
     "shell.execute_reply": "2021-08-11T09:54:15.313938Z",
     "shell.execute_reply.started": "2021-08-11T09:50:45.744530Z"
    },
    "papermill": {
     "duration": 0.700461,
     "end_time": "2021-08-11T09:54:15.315046",
     "exception": false,
     "start_time": "2021-08-11T09:54:14.614585",
     "status": "completed"
    },
    "tags": []
   },
   "outputs": [],
   "source": [
    "# Loading the dataset - on kaggle notebook\n",
    "\n",
    "x_data = np.load('../input/273-intro-to-prac-ml-summer2021/x_data_273.npy')\n",
    "y_data = np.load('../input/273-intro-to-prac-ml-summer2021/y_data_273.npy')\n",
    "x_test = np.load('../input/273-intro-to-prac-ml-summer2021/x_test_273.npy')"
   ]
  },
  {
   "cell_type": "code",
   "execution_count": 3,
   "id": "ca39e944",
   "metadata": {
    "execution": {
     "iopub.execute_input": "2021-08-11T09:54:15.361604Z",
     "iopub.status.busy": "2021-08-11T09:54:15.361019Z",
     "iopub.status.idle": "2021-08-11T09:54:15.366305Z",
     "shell.execute_reply": "2021-08-11T09:54:15.365645Z",
     "shell.execute_reply.started": "2021-08-11T09:50:45.791173Z"
    },
    "papermill": {
     "duration": 0.031189,
     "end_time": "2021-08-11T09:54:15.366427",
     "exception": false,
     "start_time": "2021-08-11T09:54:15.335238",
     "status": "completed"
    },
    "tags": []
   },
   "outputs": [
    {
     "data": {
      "text/plain": [
       "(32000, 28, 56)"
      ]
     },
     "execution_count": 3,
     "metadata": {},
     "output_type": "execute_result"
    }
   ],
   "source": [
    "x_data.shape"
   ]
  },
  {
   "cell_type": "code",
   "execution_count": 4,
   "id": "3b621f20",
   "metadata": {
    "execution": {
     "iopub.execute_input": "2021-08-11T09:54:15.411695Z",
     "iopub.status.busy": "2021-08-11T09:54:15.411133Z",
     "iopub.status.idle": "2021-08-11T09:54:15.416800Z",
     "shell.execute_reply": "2021-08-11T09:54:15.416394Z",
     "shell.execute_reply.started": "2021-08-11T09:50:45.799810Z"
    },
    "papermill": {
     "duration": 0.02978,
     "end_time": "2021-08-11T09:54:15.416910",
     "exception": false,
     "start_time": "2021-08-11T09:54:15.387130",
     "status": "completed"
    },
    "tags": []
   },
   "outputs": [
    {
     "data": {
      "text/plain": [
       "(32000,)"
      ]
     },
     "execution_count": 4,
     "metadata": {},
     "output_type": "execute_result"
    }
   ],
   "source": [
    "y_data.shape"
   ]
  },
  {
   "cell_type": "code",
   "execution_count": 5,
   "id": "fe5d8a03",
   "metadata": {
    "execution": {
     "iopub.execute_input": "2021-08-11T09:54:15.462297Z",
     "iopub.status.busy": "2021-08-11T09:54:15.461754Z",
     "iopub.status.idle": "2021-08-11T09:54:15.466865Z",
     "shell.execute_reply": "2021-08-11T09:54:15.467257Z",
     "shell.execute_reply.started": "2021-08-11T09:50:45.810251Z"
    },
    "papermill": {
     "duration": 0.029879,
     "end_time": "2021-08-11T09:54:15.467385",
     "exception": false,
     "start_time": "2021-08-11T09:54:15.437506",
     "status": "completed"
    },
    "tags": []
   },
   "outputs": [
    {
     "data": {
      "text/plain": [
       "(10000, 28, 56)"
      ]
     },
     "execution_count": 5,
     "metadata": {},
     "output_type": "execute_result"
    }
   ],
   "source": [
    "x_test.shape"
   ]
  },
  {
   "cell_type": "markdown",
   "id": "09066c90",
   "metadata": {
    "papermill": {
     "duration": 0.020385,
     "end_time": "2021-08-11T09:54:15.508914",
     "exception": false,
     "start_time": "2021-08-11T09:54:15.488529",
     "status": "completed"
    },
    "tags": []
   },
   "source": [
    "# MISSING VALUE"
   ]
  },
  {
   "cell_type": "code",
   "execution_count": 6,
   "id": "8ed6b0e1",
   "metadata": {
    "execution": {
     "iopub.execute_input": "2021-08-11T09:54:15.555398Z",
     "iopub.status.busy": "2021-08-11T09:54:15.554462Z",
     "iopub.status.idle": "2021-08-11T09:54:15.576656Z",
     "shell.execute_reply": "2021-08-11T09:54:15.577069Z",
     "shell.execute_reply.started": "2021-08-11T09:50:45.821614Z"
    },
    "papermill": {
     "duration": 0.047964,
     "end_time": "2021-08-11T09:54:15.577231",
     "exception": false,
     "start_time": "2021-08-11T09:54:15.529267",
     "status": "completed"
    },
    "tags": []
   },
   "outputs": [
    {
     "data": {
      "text/plain": [
       "False"
      ]
     },
     "execution_count": 6,
     "metadata": {},
     "output_type": "execute_result"
    }
   ],
   "source": [
    "np.isnan(x_data).any()"
   ]
  },
  {
   "cell_type": "code",
   "execution_count": 7,
   "id": "f3b25539",
   "metadata": {
    "execution": {
     "iopub.execute_input": "2021-08-11T09:54:15.623051Z",
     "iopub.status.busy": "2021-08-11T09:54:15.622049Z",
     "iopub.status.idle": "2021-08-11T09:54:15.632086Z",
     "shell.execute_reply": "2021-08-11T09:54:15.631687Z",
     "shell.execute_reply.started": "2021-08-11T09:50:45.849279Z"
    },
    "papermill": {
     "duration": 0.034291,
     "end_time": "2021-08-11T09:54:15.632215",
     "exception": false,
     "start_time": "2021-08-11T09:54:15.597924",
     "status": "completed"
    },
    "tags": []
   },
   "outputs": [
    {
     "data": {
      "text/plain": [
       "False"
      ]
     },
     "execution_count": 7,
     "metadata": {},
     "output_type": "execute_result"
    }
   ],
   "source": [
    "np.isnan(x_test).any()"
   ]
  },
  {
   "cell_type": "code",
   "execution_count": 8,
   "id": "fa9d0072",
   "metadata": {
    "execution": {
     "iopub.execute_input": "2021-08-11T09:54:15.678692Z",
     "iopub.status.busy": "2021-08-11T09:54:15.678128Z",
     "iopub.status.idle": "2021-08-11T09:54:15.683521Z",
     "shell.execute_reply": "2021-08-11T09:54:15.683027Z",
     "shell.execute_reply.started": "2021-08-11T09:50:45.863685Z"
    },
    "papermill": {
     "duration": 0.030458,
     "end_time": "2021-08-11T09:54:15.683635",
     "exception": false,
     "start_time": "2021-08-11T09:54:15.653177",
     "status": "completed"
    },
    "tags": []
   },
   "outputs": [
    {
     "data": {
      "text/plain": [
       "False"
      ]
     },
     "execution_count": 8,
     "metadata": {},
     "output_type": "execute_result"
    }
   ],
   "source": [
    "np.isnan(y_data).any()"
   ]
  },
  {
   "cell_type": "code",
   "execution_count": 9,
   "id": "db71f888",
   "metadata": {
    "execution": {
     "iopub.execute_input": "2021-08-11T09:54:15.732218Z",
     "iopub.status.busy": "2021-08-11T09:54:15.730987Z",
     "iopub.status.idle": "2021-08-11T09:54:15.734306Z",
     "shell.execute_reply": "2021-08-11T09:54:15.734720Z",
     "shell.execute_reply.started": "2021-08-11T09:50:45.871459Z"
    },
    "papermill": {
     "duration": 0.030044,
     "end_time": "2021-08-11T09:54:15.734844",
     "exception": false,
     "start_time": "2021-08-11T09:54:15.704800",
     "status": "completed"
    },
    "tags": []
   },
   "outputs": [
    {
     "name": "stdout",
     "output_type": "stream",
     "text": [
      "[8 6 5 ... 6 1 1]\n"
     ]
    }
   ],
   "source": [
    "print(y_data)"
   ]
  },
  {
   "cell_type": "code",
   "execution_count": 10,
   "id": "cea041f7",
   "metadata": {
    "execution": {
     "iopub.execute_input": "2021-08-11T09:54:15.781813Z",
     "iopub.status.busy": "2021-08-11T09:54:15.781304Z",
     "iopub.status.idle": "2021-08-11T09:54:15.786856Z",
     "shell.execute_reply": "2021-08-11T09:54:15.786463Z",
     "shell.execute_reply.started": "2021-08-11T09:50:45.879962Z"
    },
    "papermill": {
     "duration": 0.030599,
     "end_time": "2021-08-11T09:54:15.786961",
     "exception": false,
     "start_time": "2021-08-11T09:54:15.756362",
     "status": "completed"
    },
    "tags": []
   },
   "outputs": [
    {
     "data": {
      "text/plain": [
       "(32000, 28, 56, 1)"
      ]
     },
     "execution_count": 10,
     "metadata": {},
     "output_type": "execute_result"
    }
   ],
   "source": [
    "x_data=np.expand_dims(x_data,axis=-1)\n",
    "x_data.shape"
   ]
  },
  {
   "cell_type": "markdown",
   "id": "f44a753e",
   "metadata": {
    "papermill": {
     "duration": 0.021403,
     "end_time": "2021-08-11T09:54:15.830038",
     "exception": false,
     "start_time": "2021-08-11T09:54:15.808635",
     "status": "completed"
    },
    "tags": []
   },
   "source": [
    "# SHUFFLE THE DATA SET"
   ]
  },
  {
   "cell_type": "markdown",
   "id": "6fc6d7e9",
   "metadata": {
    "papermill": {
     "duration": 0.021457,
     "end_time": "2021-08-11T09:54:15.872935",
     "exception": false,
     "start_time": "2021-08-11T09:54:15.851478",
     "status": "completed"
    },
    "tags": []
   },
   "source": [
    "### In order to avoid problems with the validation set due to the ordering of the data set in the subsequent \"validation_split\" method, the data set is shuffled with \"np.random.shuffle()\"."
   ]
  },
  {
   "cell_type": "code",
   "execution_count": 11,
   "id": "e6d900c5",
   "metadata": {
    "execution": {
     "iopub.execute_input": "2021-08-11T09:54:15.924512Z",
     "iopub.status.busy": "2021-08-11T09:54:15.923295Z",
     "iopub.status.idle": "2021-08-11T09:54:15.945262Z",
     "shell.execute_reply": "2021-08-11T09:54:15.944764Z",
     "shell.execute_reply.started": "2021-08-11T09:50:45.889504Z"
    },
    "papermill": {
     "duration": 0.050372,
     "end_time": "2021-08-11T09:54:15.945388",
     "exception": false,
     "start_time": "2021-08-11T09:54:15.895016",
     "status": "completed"
    },
    "tags": []
   },
   "outputs": [],
   "source": [
    "index=np.arange(32000)\n",
    "np.random.shuffle(index)\n",
    "x_data=x_data[index,:,:,:]#X_train是训练集，y_train是训练标签\n",
    "y_data=y_data[index]"
   ]
  },
  {
   "cell_type": "code",
   "execution_count": 12,
   "id": "86295eed",
   "metadata": {
    "execution": {
     "iopub.execute_input": "2021-08-11T09:54:15.993853Z",
     "iopub.status.busy": "2021-08-11T09:54:15.993011Z",
     "iopub.status.idle": "2021-08-11T09:54:15.995620Z",
     "shell.execute_reply": "2021-08-11T09:54:15.995198Z",
     "shell.execute_reply.started": "2021-08-11T09:50:45.917640Z"
    },
    "papermill": {
     "duration": 0.028385,
     "end_time": "2021-08-11T09:54:15.995732",
     "exception": false,
     "start_time": "2021-08-11T09:54:15.967347",
     "status": "completed"
    },
    "tags": []
   },
   "outputs": [],
   "source": [
    "x_train = x_data\n",
    "x_test1 = np.expand_dims(x_test,axis=-1)"
   ]
  },
  {
   "cell_type": "markdown",
   "id": "8ded6703",
   "metadata": {
    "papermill": {
     "duration": 0.021331,
     "end_time": "2021-08-11T09:54:16.038684",
     "exception": false,
     "start_time": "2021-08-11T09:54:16.017353",
     "status": "completed"
    },
    "tags": []
   },
   "source": [
    "# METHOD of VGG（NOT GOOD）"
   ]
  },
  {
   "cell_type": "code",
   "execution_count": 13,
   "id": "83a39ac5",
   "metadata": {
    "execution": {
     "iopub.execute_input": "2021-08-11T09:54:16.088418Z",
     "iopub.status.busy": "2021-08-11T09:54:16.087649Z",
     "iopub.status.idle": "2021-08-11T09:54:16.090630Z",
     "shell.execute_reply": "2021-08-11T09:54:16.091065Z",
     "shell.execute_reply.started": "2021-08-11T09:50:45.924230Z"
    },
    "papermill": {
     "duration": 0.030768,
     "end_time": "2021-08-11T09:54:16.091212",
     "exception": false,
     "start_time": "2021-08-11T09:54:16.060444",
     "status": "completed"
    },
    "tags": []
   },
   "outputs": [
    {
     "data": {
      "text/plain": [
       "'\\n// IMG_OUT = cv2.cvtColor(IMG_IN, cv2.COLOR_GRAY2RGB)\\nx_datanew = []\\nfor x in x_train: \\n    x1 = cv2.cvtColor(x, cv2.COLOR_GRAY2RGB)\\n    x_datanew.append(x1)\\nx_testnew = []\\nfor x in x_test1: \\n    x2 = cv2.cvtColor(x, cv2.COLOR_GRAY2RGB)\\n    x_testnew.append(x2)\\n#plt.imshow(x_datanew[0])\\n\\nx_datanew = np.array(x_datanew)\\nx_testnew = np.array(x_testnew)\\nx_datanew.shape\\n\\nconv_base = keras.applications.vgg16.VGG16(\\nweights=\"imagenet\",\\ninclude_top=False,\\ninput_shape=(32, 56, 3))\\n\\nmodel = keras.Sequential([\\n    data_augmentation,\\n    layers.experimental.preprocessing.Rescaling(1./255),\\n    conv_base,\\n    layers.Flatten(),\\n    layers.Dense(256, activation=\"relu\"),\\n    layers.Dense(128, activation=\"relu\"),\\n    # layers.Dropout(0.5),\\n    layers.Dense(10, activation=\"sigmoid\")\\n])\\n'"
      ]
     },
     "execution_count": 13,
     "metadata": {},
     "output_type": "execute_result"
    }
   ],
   "source": [
    "'''\n",
    "// IMG_OUT = cv2.cvtColor(IMG_IN, cv2.COLOR_GRAY2RGB)\n",
    "x_datanew = []\n",
    "for x in x_train: \n",
    "    x1 = cv2.cvtColor(x, cv2.COLOR_GRAY2RGB)\n",
    "    x_datanew.append(x1)\n",
    "x_testnew = []\n",
    "for x in x_test1: \n",
    "    x2 = cv2.cvtColor(x, cv2.COLOR_GRAY2RGB)\n",
    "    x_testnew.append(x2)\n",
    "#plt.imshow(x_datanew[0])\n",
    "\n",
    "x_datanew = np.array(x_datanew)\n",
    "x_testnew = np.array(x_testnew)\n",
    "x_datanew.shape\n",
    "\n",
    "conv_base = keras.applications.vgg16.VGG16(\n",
    "weights=\"imagenet\",\n",
    "include_top=False,\n",
    "input_shape=(32, 56, 3))\n",
    "\n",
    "model = keras.Sequential([\n",
    "    data_augmentation,\n",
    "    layers.experimental.preprocessing.Rescaling(1./255),\n",
    "    conv_base,\n",
    "    layers.Flatten(),\n",
    "    layers.Dense(256, activation=\"relu\"),\n",
    "    layers.Dense(128, activation=\"relu\"),\n",
    "    # layers.Dropout(0.5),\n",
    "    layers.Dense(10, activation=\"sigmoid\")\n",
    "])\n",
    "'''"
   ]
  },
  {
   "cell_type": "markdown",
   "id": "0ba2530f",
   "metadata": {
    "papermill": {
     "duration": 0.022146,
     "end_time": "2021-08-11T09:54:16.135203",
     "exception": false,
     "start_time": "2021-08-11T09:54:16.113057",
     "status": "completed"
    },
    "tags": []
   },
   "source": [
    "# ENHANCED TRAIN SET"
   ]
  },
  {
   "cell_type": "code",
   "execution_count": 14,
   "id": "e309f4cc",
   "metadata": {
    "execution": {
     "iopub.execute_input": "2021-08-11T09:54:16.185253Z",
     "iopub.status.busy": "2021-08-11T09:54:16.184096Z",
     "iopub.status.idle": "2021-08-11T09:54:16.310292Z",
     "shell.execute_reply": "2021-08-11T09:54:16.309836Z",
     "shell.execute_reply.started": "2021-08-11T09:50:45.935752Z"
    },
    "papermill": {
     "duration": 0.153308,
     "end_time": "2021-08-11T09:54:16.310418",
     "exception": false,
     "start_time": "2021-08-11T09:54:16.157110",
     "status": "completed"
    },
    "tags": []
   },
   "outputs": [],
   "source": [
    "datagen = ImageDataGenerator(\n",
    "        featurewise_center=False,\n",
    "        samplewise_center=False,    \n",
    "        featurewise_std_normalization=False,\n",
    "        samplewise_std_normalization=False,\n",
    "        zca_whitening=False,          # ZCA Whitening\n",
    "        rotation_range=10,            # Randomly rotate training images by 10 degrees\n",
    "        zoom_range = 0.1,             # Randomly scale some training images by 10%\n",
    "        width_shift_range=0.1,        # Move the image horizontally by 10% of the width\n",
    "        height_shift_range=0.1,       # Move the image vertically by 10% of the height\n",
    "        horizontal_flip=False,        # BAN vertical and horizontal flipping\n",
    "        vertical_flip=False)          # It may lead to misclassification of symmetrical numbers(such as 6 and 9)\n",
    "datagen.fit(x_train)"
   ]
  },
  {
   "cell_type": "markdown",
   "id": "7678d416",
   "metadata": {
    "papermill": {
     "duration": 0.02214,
     "end_time": "2021-08-11T09:54:16.354828",
     "exception": false,
     "start_time": "2021-08-11T09:54:16.332688",
     "status": "completed"
    },
    "tags": []
   },
   "source": [
    "# CNN BUILD"
   ]
  },
  {
   "cell_type": "code",
   "execution_count": 15,
   "id": "1ae4623f",
   "metadata": {
    "execution": {
     "iopub.execute_input": "2021-08-11T09:54:16.409781Z",
     "iopub.status.busy": "2021-08-11T09:54:16.409241Z",
     "iopub.status.idle": "2021-08-11T09:54:18.414963Z",
     "shell.execute_reply": "2021-08-11T09:54:18.413800Z",
     "shell.execute_reply.started": "2021-08-11T09:50:46.068955Z"
    },
    "papermill": {
     "duration": 2.036862,
     "end_time": "2021-08-11T09:54:18.415094",
     "exception": false,
     "start_time": "2021-08-11T09:54:16.378232",
     "status": "completed"
    },
    "tags": []
   },
   "outputs": [],
   "source": [
    "inputs = keras.Input(shape=(28, 56, 1))\n",
    "\n",
    "# Convolutional layer\n",
    "x = layers.experimental.preprocessing.Rescaling(1./255)(inputs)\n",
    "\n",
    "x = layers.Conv2D(filters=128, kernel_size=5,use_bias=False)(x)\n",
    "x = layers.BatchNormalization()(x)\n",
    "x = layers.Activation(\"relu\")(x)\n",
    "\n",
    "x = layers.MaxPooling2D(pool_size=2)(x)\n",
    "\n",
    "x = layers.Conv2D(filters=64, kernel_size=5,use_bias=False)(x)\n",
    "x = layers.BatchNormalization()(x)\n",
    "x = layers.Activation(\"relu\")(x)\n",
    "\n",
    "x = layers.MaxPooling2D(pool_size=2)(x)\n",
    "\n",
    "x = layers.Dropout(0.4)(x)\n",
    "x = layers.Flatten()(x)\n",
    "\n",
    "# Fully connected layer\n",
    "x = layers.Dense(512, activation=\"relu\")(x)             \n",
    "x = layers.Dropout(0.4)(x) \n",
    "x = layers.Dense(64,activation = 'relu')(x)\n",
    "x = layers.Dense(32,activation = 'relu')(x)\n",
    "\n",
    "outputs = layers.Dense(10, activation=\"softmax\")(x)\n",
    "model = keras.Model(inputs=inputs, outputs=outputs)\n"
   ]
  },
  {
   "cell_type": "code",
   "execution_count": 16,
   "id": "97b9d4cc",
   "metadata": {
    "execution": {
     "iopub.execute_input": "2021-08-11T09:54:18.470343Z",
     "iopub.status.busy": "2021-08-11T09:54:18.469512Z",
     "iopub.status.idle": "2021-08-11T09:54:18.475582Z",
     "shell.execute_reply": "2021-08-11T09:54:18.475172Z",
     "shell.execute_reply.started": "2021-08-11T09:50:46.154342Z"
    },
    "papermill": {
     "duration": 0.038174,
     "end_time": "2021-08-11T09:54:18.475696",
     "exception": false,
     "start_time": "2021-08-11T09:54:18.437522",
     "status": "completed"
    },
    "tags": []
   },
   "outputs": [],
   "source": [
    "adam = Adam(lr = 3e-4)\n",
    "model.compile(optimizer=adam,loss='sparse_categorical_crossentropy',metrics=['accuracy'])"
   ]
  },
  {
   "cell_type": "markdown",
   "id": "15b81ec5",
   "metadata": {
    "papermill": {
     "duration": 0.022149,
     "end_time": "2021-08-11T09:54:18.519945",
     "exception": false,
     "start_time": "2021-08-11T09:54:18.497796",
     "status": "completed"
    },
    "tags": []
   },
   "source": [
    "# CALLBACK LIST & CHECK THE BEST"
   ]
  },
  {
   "cell_type": "code",
   "execution_count": 17,
   "id": "3838ea7f",
   "metadata": {
    "execution": {
     "iopub.execute_input": "2021-08-11T09:54:18.569598Z",
     "iopub.status.busy": "2021-08-11T09:54:18.568764Z",
     "iopub.status.idle": "2021-08-11T09:54:18.571259Z",
     "shell.execute_reply": "2021-08-11T09:54:18.570848Z",
     "shell.execute_reply.started": "2021-08-11T09:50:46.169104Z"
    },
    "papermill": {
     "duration": 0.029151,
     "end_time": "2021-08-11T09:54:18.571369",
     "exception": false,
     "start_time": "2021-08-11T09:54:18.542218",
     "status": "completed"
    },
    "tags": []
   },
   "outputs": [],
   "source": [
    "callbacks_list = [\n",
    "    keras.callbacks.EarlyStopping(\n",
    "        monitor=\"val_accuracy\",\n",
    "        patience = 12,\n",
    "    ),\n",
    "    keras.callbacks.ModelCheckpoint(\n",
    "        filepath=\"checkpoint_path.keras\",\n",
    "        monitor=\"val_accuracy\",\n",
    "        save_best_only=True,\n",
    "    )\n",
    "]"
   ]
  },
  {
   "cell_type": "code",
   "execution_count": 18,
   "id": "9c2a0774",
   "metadata": {
    "execution": {
     "iopub.execute_input": "2021-08-11T09:54:18.620279Z",
     "iopub.status.busy": "2021-08-11T09:54:18.619689Z",
     "iopub.status.idle": "2021-08-11T09:56:54.165342Z",
     "shell.execute_reply": "2021-08-11T09:56:54.164337Z",
     "shell.execute_reply.started": "2021-08-11T09:50:46.176031Z"
    },
    "papermill": {
     "duration": 155.572045,
     "end_time": "2021-08-11T09:56:54.165498",
     "exception": false,
     "start_time": "2021-08-11T09:54:18.593453",
     "status": "completed"
    },
    "tags": []
   },
   "outputs": [
    {
     "name": "stdout",
     "output_type": "stream",
     "text": [
      "Epoch 1/300\n",
      "57/57 [==============================] - 9s 43ms/step - loss: 2.0618 - accuracy: 0.2674 - val_loss: 2.2302 - val_accuracy: 0.1547\n",
      "Epoch 2/300\n",
      "57/57 [==============================] - 2s 32ms/step - loss: 1.2539 - accuracy: 0.5617 - val_loss: 2.1859 - val_accuracy: 0.1600\n",
      "Epoch 3/300\n",
      "57/57 [==============================] - 2s 32ms/step - loss: 0.8752 - accuracy: 0.7058 - val_loss: 2.1179 - val_accuracy: 0.3172\n",
      "Epoch 4/300\n",
      "57/57 [==============================] - 2s 32ms/step - loss: 0.6851 - accuracy: 0.7709 - val_loss: 2.2240 - val_accuracy: 0.2722\n",
      "Epoch 5/300\n",
      "57/57 [==============================] - 2s 32ms/step - loss: 0.5515 - accuracy: 0.8138 - val_loss: 2.6684 - val_accuracy: 0.1787\n",
      "Epoch 6/300\n",
      "57/57 [==============================] - 2s 33ms/step - loss: 0.4709 - accuracy: 0.8449 - val_loss: 2.8328 - val_accuracy: 0.3038\n",
      "Epoch 7/300\n",
      "57/57 [==============================] - 2s 32ms/step - loss: 0.4204 - accuracy: 0.8588 - val_loss: 2.7039 - val_accuracy: 0.2925\n",
      "Epoch 8/300\n",
      "57/57 [==============================] - 2s 32ms/step - loss: 0.3902 - accuracy: 0.8688 - val_loss: 2.5655 - val_accuracy: 0.3475\n",
      "Epoch 9/300\n",
      "57/57 [==============================] - 2s 32ms/step - loss: 0.3366 - accuracy: 0.8878 - val_loss: 1.5212 - val_accuracy: 0.4278\n",
      "Epoch 10/300\n",
      "57/57 [==============================] - 2s 32ms/step - loss: 0.3173 - accuracy: 0.8946 - val_loss: 0.5838 - val_accuracy: 0.8375\n",
      "Epoch 11/300\n",
      "57/57 [==============================] - 2s 33ms/step - loss: 0.2790 - accuracy: 0.9063 - val_loss: 0.4219 - val_accuracy: 0.8697\n",
      "Epoch 12/300\n",
      "57/57 [==============================] - 2s 32ms/step - loss: 0.2793 - accuracy: 0.9098 - val_loss: 0.2808 - val_accuracy: 0.9106\n",
      "Epoch 13/300\n",
      "57/57 [==============================] - 2s 32ms/step - loss: 0.2565 - accuracy: 0.9149 - val_loss: 0.3067 - val_accuracy: 0.8950\n",
      "Epoch 14/300\n",
      "57/57 [==============================] - 2s 32ms/step - loss: 0.2402 - accuracy: 0.9202 - val_loss: 0.2147 - val_accuracy: 0.9294\n",
      "Epoch 15/300\n",
      "57/57 [==============================] - 2s 32ms/step - loss: 0.2194 - accuracy: 0.9262 - val_loss: 0.2087 - val_accuracy: 0.9319\n",
      "Epoch 16/300\n",
      "57/57 [==============================] - 2s 32ms/step - loss: 0.2140 - accuracy: 0.9290 - val_loss: 0.2448 - val_accuracy: 0.9184\n",
      "Epoch 17/300\n",
      "57/57 [==============================] - 2s 33ms/step - loss: 0.1973 - accuracy: 0.9367 - val_loss: 0.2196 - val_accuracy: 0.9234\n",
      "Epoch 18/300\n",
      "57/57 [==============================] - 2s 32ms/step - loss: 0.1861 - accuracy: 0.9371 - val_loss: 0.2154 - val_accuracy: 0.9262\n",
      "Epoch 19/300\n",
      "57/57 [==============================] - 2s 32ms/step - loss: 0.1724 - accuracy: 0.9421 - val_loss: 0.1745 - val_accuracy: 0.9406\n",
      "Epoch 20/300\n",
      "57/57 [==============================] - 2s 32ms/step - loss: 0.1641 - accuracy: 0.9451 - val_loss: 0.1717 - val_accuracy: 0.9428\n",
      "Epoch 21/300\n",
      "57/57 [==============================] - 2s 31ms/step - loss: 0.1611 - accuracy: 0.9469 - val_loss: 0.1584 - val_accuracy: 0.9478\n",
      "Epoch 22/300\n",
      "57/57 [==============================] - 2s 32ms/step - loss: 0.1445 - accuracy: 0.9533 - val_loss: 0.1524 - val_accuracy: 0.9500\n",
      "Epoch 23/300\n",
      "57/57 [==============================] - 2s 33ms/step - loss: 0.1393 - accuracy: 0.9532 - val_loss: 0.1647 - val_accuracy: 0.9456\n",
      "Epoch 24/300\n",
      "57/57 [==============================] - 2s 32ms/step - loss: 0.1338 - accuracy: 0.9551 - val_loss: 0.1549 - val_accuracy: 0.9488\n",
      "Epoch 25/300\n",
      "57/57 [==============================] - 2s 31ms/step - loss: 0.1331 - accuracy: 0.9546 - val_loss: 0.1631 - val_accuracy: 0.9456\n",
      "Epoch 26/300\n",
      "57/57 [==============================] - 2s 32ms/step - loss: 0.1238 - accuracy: 0.9567 - val_loss: 0.1546 - val_accuracy: 0.9469\n",
      "Epoch 27/300\n",
      "57/57 [==============================] - 2s 32ms/step - loss: 0.1211 - accuracy: 0.9596 - val_loss: 0.1486 - val_accuracy: 0.9506\n",
      "Epoch 28/300\n",
      "57/57 [==============================] - 2s 32ms/step - loss: 0.1163 - accuracy: 0.9618 - val_loss: 0.1695 - val_accuracy: 0.9444\n",
      "Epoch 29/300\n",
      "57/57 [==============================] - 2s 32ms/step - loss: 0.1115 - accuracy: 0.9630 - val_loss: 0.1394 - val_accuracy: 0.9528\n",
      "Epoch 30/300\n",
      "57/57 [==============================] - 2s 32ms/step - loss: 0.0999 - accuracy: 0.9671 - val_loss: 0.1336 - val_accuracy: 0.9559\n",
      "Epoch 31/300\n",
      "57/57 [==============================] - 2s 31ms/step - loss: 0.0895 - accuracy: 0.9703 - val_loss: 0.1536 - val_accuracy: 0.9506\n",
      "Epoch 32/300\n",
      "57/57 [==============================] - 2s 32ms/step - loss: 0.0889 - accuracy: 0.9704 - val_loss: 0.1242 - val_accuracy: 0.9578\n",
      "Epoch 33/300\n",
      "57/57 [==============================] - 2s 31ms/step - loss: 0.0909 - accuracy: 0.9685 - val_loss: 0.1216 - val_accuracy: 0.9619\n",
      "Epoch 34/300\n",
      "57/57 [==============================] - 2s 32ms/step - loss: 0.0739 - accuracy: 0.9745 - val_loss: 0.1254 - val_accuracy: 0.9572\n",
      "Epoch 35/300\n",
      "57/57 [==============================] - 2s 32ms/step - loss: 0.0839 - accuracy: 0.9718 - val_loss: 0.1611 - val_accuracy: 0.9516\n",
      "Epoch 36/300\n",
      "57/57 [==============================] - 2s 32ms/step - loss: 0.0824 - accuracy: 0.9716 - val_loss: 0.1308 - val_accuracy: 0.9575\n",
      "Epoch 37/300\n",
      "57/57 [==============================] - 2s 32ms/step - loss: 0.0751 - accuracy: 0.9761 - val_loss: 0.1224 - val_accuracy: 0.9597\n",
      "Epoch 38/300\n",
      "57/57 [==============================] - 2s 32ms/step - loss: 0.0752 - accuracy: 0.9757 - val_loss: 0.1262 - val_accuracy: 0.9603\n",
      "Epoch 39/300\n",
      "57/57 [==============================] - 2s 32ms/step - loss: 0.0663 - accuracy: 0.9781 - val_loss: 0.2706 - val_accuracy: 0.9300\n",
      "Epoch 40/300\n",
      "57/57 [==============================] - 2s 33ms/step - loss: 0.0665 - accuracy: 0.9783 - val_loss: 0.1609 - val_accuracy: 0.9519\n",
      "Epoch 41/300\n",
      "57/57 [==============================] - 2s 35ms/step - loss: 0.0689 - accuracy: 0.9761 - val_loss: 0.1611 - val_accuracy: 0.9509\n",
      "Epoch 42/300\n",
      "57/57 [==============================] - 2s 32ms/step - loss: 0.0662 - accuracy: 0.9776 - val_loss: 0.1218 - val_accuracy: 0.9641\n",
      "Epoch 43/300\n",
      "57/57 [==============================] - 2s 32ms/step - loss: 0.0618 - accuracy: 0.9785 - val_loss: 0.1139 - val_accuracy: 0.9628\n",
      "Epoch 44/300\n",
      "57/57 [==============================] - 2s 32ms/step - loss: 0.0586 - accuracy: 0.9799 - val_loss: 0.1117 - val_accuracy: 0.9650\n",
      "Epoch 45/300\n",
      "57/57 [==============================] - 2s 32ms/step - loss: 0.0557 - accuracy: 0.9819 - val_loss: 0.1350 - val_accuracy: 0.9559\n",
      "Epoch 46/300\n",
      "57/57 [==============================] - 2s 32ms/step - loss: 0.0556 - accuracy: 0.9815 - val_loss: 0.1389 - val_accuracy: 0.9578\n",
      "Epoch 47/300\n",
      "57/57 [==============================] - 2s 32ms/step - loss: 0.0537 - accuracy: 0.9825 - val_loss: 0.1265 - val_accuracy: 0.9634\n",
      "Epoch 48/300\n",
      "57/57 [==============================] - 2s 32ms/step - loss: 0.0526 - accuracy: 0.9813 - val_loss: 0.1199 - val_accuracy: 0.9622\n",
      "Epoch 49/300\n",
      "57/57 [==============================] - 2s 32ms/step - loss: 0.0524 - accuracy: 0.9818 - val_loss: 0.1210 - val_accuracy: 0.9638\n",
      "Epoch 50/300\n",
      "57/57 [==============================] - 2s 32ms/step - loss: 0.0489 - accuracy: 0.9842 - val_loss: 0.1688 - val_accuracy: 0.9522\n",
      "Epoch 51/300\n",
      "57/57 [==============================] - 2s 32ms/step - loss: 0.0477 - accuracy: 0.9856 - val_loss: 0.1259 - val_accuracy: 0.9594\n",
      "Epoch 52/300\n",
      "57/57 [==============================] - 2s 33ms/step - loss: 0.0455 - accuracy: 0.9855 - val_loss: 0.1465 - val_accuracy: 0.9538\n",
      "Epoch 53/300\n",
      "57/57 [==============================] - 2s 32ms/step - loss: 0.0461 - accuracy: 0.9853 - val_loss: 0.1073 - val_accuracy: 0.9675\n",
      "Epoch 54/300\n",
      "57/57 [==============================] - 2s 32ms/step - loss: 0.0443 - accuracy: 0.9864 - val_loss: 0.1050 - val_accuracy: 0.9669\n",
      "Epoch 55/300\n",
      "57/57 [==============================] - 2s 32ms/step - loss: 0.0490 - accuracy: 0.9831 - val_loss: 0.1702 - val_accuracy: 0.9481\n",
      "Epoch 56/300\n",
      "57/57 [==============================] - 2s 31ms/step - loss: 0.0411 - accuracy: 0.9859 - val_loss: 0.1045 - val_accuracy: 0.9666\n",
      "Epoch 57/300\n",
      "57/57 [==============================] - 2s 31ms/step - loss: 0.0408 - accuracy: 0.9870 - val_loss: 0.1137 - val_accuracy: 0.9669\n",
      "Epoch 58/300\n",
      "57/57 [==============================] - 2s 32ms/step - loss: 0.0403 - accuracy: 0.9865 - val_loss: 0.1102 - val_accuracy: 0.9659\n",
      "Epoch 59/300\n",
      "57/57 [==============================] - 2s 31ms/step - loss: 0.0373 - accuracy: 0.9876 - val_loss: 0.1305 - val_accuracy: 0.9641\n",
      "Epoch 60/300\n",
      "57/57 [==============================] - 2s 31ms/step - loss: 0.0419 - accuracy: 0.9863 - val_loss: 0.1380 - val_accuracy: 0.9588\n",
      "Epoch 61/300\n",
      "57/57 [==============================] - 2s 32ms/step - loss: 0.0401 - accuracy: 0.9872 - val_loss: 0.1207 - val_accuracy: 0.9644\n",
      "Epoch 62/300\n",
      "57/57 [==============================] - 2s 32ms/step - loss: 0.0346 - accuracy: 0.9877 - val_loss: 0.1181 - val_accuracy: 0.9634\n",
      "Epoch 63/300\n",
      "57/57 [==============================] - 2s 32ms/step - loss: 0.0363 - accuracy: 0.9881 - val_loss: 0.1377 - val_accuracy: 0.9628\n",
      "Epoch 64/300\n",
      "57/57 [==============================] - 2s 32ms/step - loss: 0.0352 - accuracy: 0.9885 - val_loss: 0.1380 - val_accuracy: 0.9613\n",
      "Epoch 65/300\n",
      "57/57 [==============================] - 2s 33ms/step - loss: 0.0317 - accuracy: 0.9894 - val_loss: 0.1105 - val_accuracy: 0.9694\n",
      "Epoch 66/300\n",
      "57/57 [==============================] - 2s 32ms/step - loss: 0.0351 - accuracy: 0.9879 - val_loss: 0.1218 - val_accuracy: 0.9641\n",
      "Epoch 67/300\n",
      "57/57 [==============================] - 2s 32ms/step - loss: 0.0304 - accuracy: 0.9896 - val_loss: 0.1086 - val_accuracy: 0.9672\n",
      "Epoch 68/300\n",
      "57/57 [==============================] - 2s 32ms/step - loss: 0.0290 - accuracy: 0.9899 - val_loss: 0.1007 - val_accuracy: 0.9709\n",
      "Epoch 69/300\n",
      "57/57 [==============================] - 2s 32ms/step - loss: 0.0331 - accuracy: 0.9890 - val_loss: 0.1096 - val_accuracy: 0.9672\n",
      "Epoch 70/300\n",
      "57/57 [==============================] - 2s 32ms/step - loss: 0.0332 - accuracy: 0.9897 - val_loss: 0.1345 - val_accuracy: 0.9628\n",
      "Epoch 71/300\n",
      "57/57 [==============================] - 2s 32ms/step - loss: 0.0292 - accuracy: 0.9903 - val_loss: 0.1240 - val_accuracy: 0.9641\n",
      "Epoch 72/300\n",
      "57/57 [==============================] - 2s 32ms/step - loss: 0.0339 - accuracy: 0.9894 - val_loss: 0.1297 - val_accuracy: 0.9647\n",
      "Epoch 73/300\n",
      "57/57 [==============================] - 2s 32ms/step - loss: 0.0288 - accuracy: 0.9904 - val_loss: 0.1065 - val_accuracy: 0.9694\n",
      "Epoch 74/300\n",
      "57/57 [==============================] - 2s 32ms/step - loss: 0.0293 - accuracy: 0.9906 - val_loss: 0.1126 - val_accuracy: 0.9669\n",
      "Epoch 75/300\n",
      "57/57 [==============================] - 2s 32ms/step - loss: 0.0272 - accuracy: 0.9912 - val_loss: 0.1134 - val_accuracy: 0.9659\n",
      "Epoch 76/300\n",
      "57/57 [==============================] - 2s 33ms/step - loss: 0.0282 - accuracy: 0.9903 - val_loss: 0.1031 - val_accuracy: 0.9666\n",
      "Epoch 77/300\n",
      "57/57 [==============================] - 2s 32ms/step - loss: 0.0281 - accuracy: 0.9905 - val_loss: 0.1121 - val_accuracy: 0.9684\n",
      "Epoch 78/300\n",
      "57/57 [==============================] - 2s 32ms/step - loss: 0.0301 - accuracy: 0.9908 - val_loss: 0.1185 - val_accuracy: 0.9663\n",
      "Epoch 79/300\n",
      "57/57 [==============================] - 2s 32ms/step - loss: 0.0307 - accuracy: 0.9906 - val_loss: 0.1500 - val_accuracy: 0.9588\n",
      "Epoch 80/300\n",
      "57/57 [==============================] - 2s 32ms/step - loss: 0.0340 - accuracy: 0.9884 - val_loss: 0.1994 - val_accuracy: 0.9466\n"
     ]
    }
   ],
   "source": [
    "model_history = model.fit(x_train,\n",
    "    y_data,\n",
    "    epochs = 300,\n",
    "    batch_size = 512,\n",
    "    callbacks = callbacks_list,     \n",
    "    validation_split = 0.1   # Split the data set into training set and test set according to 9:1\n",
    ")"
   ]
  },
  {
   "cell_type": "markdown",
   "id": "0bd63d6b",
   "metadata": {
    "papermill": {
     "duration": 0.663654,
     "end_time": "2021-08-11T09:56:55.491477",
     "exception": false,
     "start_time": "2021-08-11T09:56:54.827823",
     "status": "completed"
    },
    "tags": []
   },
   "source": [
    "# SHOW PLOT"
   ]
  },
  {
   "cell_type": "code",
   "execution_count": 19,
   "id": "cfdfe9ac",
   "metadata": {
    "execution": {
     "iopub.execute_input": "2021-08-11T09:56:56.891680Z",
     "iopub.status.busy": "2021-08-11T09:56:56.890730Z",
     "iopub.status.idle": "2021-08-11T09:56:57.259148Z",
     "shell.execute_reply": "2021-08-11T09:56:57.259636Z",
     "shell.execute_reply.started": "2021-08-11T09:53:06.463703Z"
    },
    "papermill": {
     "duration": 1.04505,
     "end_time": "2021-08-11T09:56:57.259812",
     "exception": false,
     "start_time": "2021-08-11T09:56:56.214762",
     "status": "completed"
    },
    "tags": []
   },
   "outputs": [
    {
     "data": {
      "image/png": "[encoded data removed]",
      "text/plain": [
       "<Figure size 432x288 with 1 Axes>"
      ]
     },
     "metadata": {
      "needs_background": "light"
     },
     "output_type": "display_data"
    }
   ],
   "source": [
    "import matplotlib.pyplot as plt\n",
    "history_dict = model_history.history\n",
    "loss_values = history_dict[\"loss\"]\n",
    "val_loss_values = history_dict[\"val_loss\"]\n",
    "epochs = range(1, len(loss_values) + 1)\n",
    "plt.plot(epochs, loss_values, \"bo\", label=\"Training loss\")\n",
    "plt.plot(epochs, val_loss_values, \"b\", label=\"Validation loss\")\n",
    "plt.title(\"Training and validation loss\")\n",
    "plt.xlabel(\"Epochs\")\n",
    "plt.ylabel(\"Loss\")\n",
    "plt.legend()\n",
    "plt.show()\n",
    "plt.show()"
   ]
  },
  {
   "cell_type": "code",
   "execution_count": 20,
   "id": "8ba61e39",
   "metadata": {
    "execution": {
     "iopub.execute_input": "2021-08-11T09:56:59.376295Z",
     "iopub.status.busy": "2021-08-11T09:56:59.372857Z",
     "iopub.status.idle": "2021-08-11T09:56:59.524547Z",
     "shell.execute_reply": "2021-08-11T09:56:59.524008Z",
     "shell.execute_reply.started": "2021-08-11T09:53:06.732694Z"
    },
    "papermill": {
     "duration": 1.353914,
     "end_time": "2021-08-11T09:56:59.524685",
     "exception": false,
     "start_time": "2021-08-11T09:56:58.170771",
     "status": "completed"
    },
    "tags": []
   },
   "outputs": [],
   "source": [
    "model2 = keras.models.load_model(\"checkpoint_path.keras\")"
   ]
  },
  {
   "cell_type": "code",
   "execution_count": 21,
   "id": "8222b701",
   "metadata": {
    "execution": {
     "iopub.execute_input": "2021-08-11T09:57:00.882860Z",
     "iopub.status.busy": "2021-08-11T09:57:00.881474Z",
     "iopub.status.idle": "2021-08-11T09:57:01.400675Z",
     "shell.execute_reply": "2021-08-11T09:57:01.400166Z",
     "shell.execute_reply.started": "2021-08-11T09:53:06.949621Z"
    },
    "papermill": {
     "duration": 1.212919,
     "end_time": "2021-08-11T09:57:01.400795",
     "exception": false,
     "start_time": "2021-08-11T09:57:00.187876",
     "status": "completed"
    },
    "tags": []
   },
   "outputs": [],
   "source": [
    "y_predict = model2.predict(x_test1)"
   ]
  },
  {
   "cell_type": "markdown",
   "id": "55f6c33b",
   "metadata": {
    "papermill": {
     "duration": 0.657708,
     "end_time": "2021-08-11T09:57:02.719814",
     "exception": false,
     "start_time": "2021-08-11T09:57:02.062106",
     "status": "completed"
    },
    "tags": []
   },
   "source": [
    "# TO CSV"
   ]
  },
  {
   "cell_type": "code",
   "execution_count": 22,
   "id": "b5ed5eff",
   "metadata": {
    "execution": {
     "iopub.execute_input": "2021-08-11T09:57:04.042887Z",
     "iopub.status.busy": "2021-08-11T09:57:04.041796Z",
     "iopub.status.idle": "2021-08-11T09:57:04.046186Z",
     "shell.execute_reply": "2021-08-11T09:57:04.045712Z",
     "shell.execute_reply.started": "2021-08-11T09:53:07.380304Z"
    },
    "papermill": {
     "duration": 0.668803,
     "end_time": "2021-08-11T09:57:04.046318",
     "exception": false,
     "start_time": "2021-08-11T09:57:03.377515",
     "status": "completed"
    },
    "tags": []
   },
   "outputs": [],
   "source": [
    "import pandas as pd"
   ]
  },
  {
   "cell_type": "code",
   "execution_count": 23,
   "id": "523e8b17",
   "metadata": {
    "execution": {
     "iopub.execute_input": "2021-08-11T09:57:05.427305Z",
     "iopub.status.busy": "2021-08-11T09:57:05.426372Z",
     "iopub.status.idle": "2021-08-11T09:57:05.582810Z",
     "shell.execute_reply": "2021-08-11T09:57:05.582317Z",
     "shell.execute_reply.started": "2021-08-11T09:53:07.390235Z"
    },
    "papermill": {
     "duration": 0.846347,
     "end_time": "2021-08-11T09:57:05.582929",
     "exception": false,
     "start_time": "2021-08-11T09:57:04.736582",
     "status": "completed"
    },
    "tags": []
   },
   "outputs": [],
   "source": [
    "y_predict = pd.DataFrame(y_predict, columns=['solution_' + str(i) for i in range(10)])\n",
    "y_predict.head()\n",
    "y_predict.index.rename('Id', inplace=True)\n",
    "y_predict.to_csv('df_predictions_end.csv')"
   ]
  }
 ],
 "metadata": {
  "kernelspec": {
   "display_name": "Python 3",
   "language": "python",
   "name": "python3"
  },
  "language_info": {
   "codemirror_mode": {
    "name": "ipython",
    "version": 3
   },
   "file_extension": ".py",
   "mimetype": "text/x-python",
   "name": "python",
   "nbconvert_exporter": "python",
   "pygments_lexer": "ipython3",
   "version": "3.7.6"
  },
  "papermill": {
   "default_parameters": {},
   "duration": 185.787873,
   "end_time": "2021-08-11T09:57:09.059850",
   "environment_variables": {},
   "exception": null,
   "input_path": "__notebook__.ipynb",
   "output_path": "__notebook__.ipynb",
   "parameters": {},
   "start_time": "2021-08-11T09:54:03.271977",
   "version": "2.3.3"
  }
 },
 "nbformat": 4,
 "nbformat_minor": 5
}
